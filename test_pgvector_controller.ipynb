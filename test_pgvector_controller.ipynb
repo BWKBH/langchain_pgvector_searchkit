{
 "cells": [
  {
   "cell_type": "markdown",
   "id": "515f76f1",
   "metadata": {},
   "source": [
    "# How to use"
   ]
  },
  {
   "cell_type": "code",
   "execution_count": null,
   "id": "5c48433f",
   "metadata": {},
   "outputs": [],
   "source": [
    "import sys\n",
    "\n",
    "remove_path = ''\n",
    "sys.path = [p for p in sys.path if p != remove_path]\n",
    "src_path = ''\n",
    "if src_path not in sys.path:\n",
    "    sys.path.append(src_path)"
   ]
  },
  {
   "cell_type": "code",
   "execution_count": 6,
   "id": "c2c3688f",
   "metadata": {},
   "outputs": [],
   "source": [
    "from langchain_pgvector_searchkit.service.pgvector_search_manager import PGVectorController"
   ]
  },
  {
   "cell_type": "code",
   "execution_count": 2,
   "id": "dff379bc",
   "metadata": {},
   "outputs": [
    {
     "name": "stderr",
     "output_type": "stream",
     "text": [
      "/home/kbh/Desktop/ssami/malssami/lib/python3.12/site-packages/tqdm/auto.py:21: TqdmWarning: IProgress not found. Please update jupyter and ipywidgets. See https://ipywidgets.readthedocs.io/en/stable/user_install.html\n",
      "  from .autonotebook import tqdm as notebook_tqdm\n"
     ]
    }
   ],
   "source": [
    "test_pg_module=PGVectorController()"
   ]
  },
  {
   "cell_type": "code",
   "execution_count": 6,
   "id": "9983ec32",
   "metadata": {},
   "outputs": [
    {
     "data": {
      "text/plain": [
       "<pgvector_db_v2.PGVectorController at 0x743a647a8500>"
      ]
     },
     "execution_count": 6,
     "metadata": {},
     "output_type": "execute_result"
    },
    {
     "name": "stderr",
     "output_type": "stream",
     "text": [
      "2025-08-06 17:35:51.949 KST [12165] LOG:  starting PostgreSQL 16.9 (Ubuntu 16.9-0ubuntu0.24.04.1) on x86_64-pc-linux-gnu, compiled by gcc (Ubuntu 13.3.0-6ubuntu2~24.04) 13.3.0, 64-bit\n",
      "2025-08-06 17:35:51.949 KST [12165] LOG:  listening on IPv4 address \"127.0.0.1\", port 5434\n",
      "2025-08-06 17:35:51.951 KST [12165] LOG:  listening on Unix socket \"/home/kbh/Desktop/ssami/pgvector_db/malssami_pg_data/.s.PGSQL.5434\"\n",
      "2025-08-06 17:35:51.955 KST [12168] LOG:  database system was interrupted; last known up at 2025-08-06 17:35:03 KST\n",
      "2025-08-06 17:35:52.000 KST [12168] LOG:  database system was not properly shut down; automatic recovery in progress\n",
      "2025-08-06 17:35:52.001 KST [12168] LOG:  redo starts at 0/2EABF400\n",
      "2025-08-06 17:35:52.001 KST [12168] LOG:  invalid record length at 0/2EABF438: expected at least 24, got 0\n",
      "2025-08-06 17:35:52.001 KST [12168] LOG:  redo done at 0/2EABF400 system usage: CPU: user: 0.00 s, system: 0.00 s, elapsed: 0.00 s\n",
      "2025-08-06 17:35:52.004 KST [12166] LOG:  checkpoint starting: end-of-recovery immediate wait\n",
      "2025-08-06 17:35:52.010 KST [12166] LOG:  checkpoint complete: wrote 3 buffers (0.0%); 0 WAL file(s) added, 0 removed, 0 recycled; write=0.002 s, sync=0.001 s, total=0.007 s; sync files=2, longest=0.001 s, average=0.001 s; distance=0 kB, estimate=0 kB; lsn=0/2EABF438, redo lsn=0/2EABF438\n",
      "2025-08-06 17:35:52.014 KST [12165] LOG:  database system is ready to accept connections\n"
     ]
    }
   ],
   "source": [
    "test_pg_module.serve_postgres()"
   ]
  },
  {
   "cell_type": "code",
   "execution_count": 7,
   "id": "629a0120",
   "metadata": {},
   "outputs": [
    {
     "name": "stdout",
     "output_type": "stream",
     "text": [
      "PostgreSQL 16.9 (Ubuntu 16.9-0ubuntu0.24.04.1) on x86_64-pc-linux-gnu, compiled by gcc (Ubuntu 13.3.0-6ubuntu2~24.04) 13.3.0, 64-bit\n"
     ]
    },
    {
     "data": {
      "text/plain": [
       "<pgvector_db_v2.PGVectorController at 0x743a647a8500>"
      ]
     },
     "execution_count": 7,
     "metadata": {},
     "output_type": "execute_result"
    }
   ],
   "source": [
    "await test_pg_module.aconnect_to_postgres_sql_db()"
   ]
  },
  {
   "cell_type": "code",
   "execution_count": 5,
   "id": "830fa132",
   "metadata": {},
   "outputs": [
    {
     "name": "stdout",
     "output_type": "stream",
     "text": [
      "Trying to close PostgreSQL... PID: 12132\n",
      "\n",
      "▶ Active DB connections and transactions before shutdown:\n",
      "Current active connections/transactions status:\n",
      "PID:12140 USER:malssami_admin APP: IP:127.0.0.1 state:active xact_start:2025-08-06 08:35:10.334889+00:00\n",
      "  query:\n",
      "                SELECT pid, usename, application_name, client_addr, state, query, xact_start\n",
      "                FROM pg_stat_activity\n",
      "                WHERE datname = current_database()\n",
      "                ORDER BY state, xact_start NULLS LAST;\n",
      "            \n",
      "\n"
     ]
    },
    {
     "name": "stderr",
     "output_type": "stream",
     "text": [
      "2025-08-06 17:35:10.337 KST [12132] LOG:  received smart shutdown request\n"
     ]
    },
    {
     "name": "stdout",
     "output_type": "stream",
     "text": [
      "Server didn't close normally within timeout.\n",
      "Current active connections/transactions status:\n",
      "PID:12140 USER:malssami_admin APP: IP:127.0.0.1 state:active xact_start:2025-08-06 08:35:25.337742+00:00\n",
      "  query:\n",
      "                SELECT pid, usename, application_name, client_addr, state, query, xact_start\n",
      "                FROM pg_stat_activity\n",
      "                WHERE datname = current_database()\n",
      "                ORDER BY state, xact_start NULLS LAST;\n",
      "            \n",
      "\n",
      "Forcefully terminating all connections.\n",
      "All DB sessions have been successfully terminated.\n",
      "The server still did not close.\n",
      "PostgreSQL server killed.\n",
      "PostgreSQL server killed and zombie cleaned up.\n"
     ]
    },
    {
     "name": "stderr",
     "output_type": "stream",
     "text": [
      "2025-08-06 17:35:42.684 KST [12140] FATAL:  terminating connection due to unexpected postmaster exit\n"
     ]
    }
   ],
   "source": [
    "await test_pg_module.astop_postgres_server()"
   ]
  },
  {
   "cell_type": "code",
   "execution_count": 8,
   "id": "40b6ade1",
   "metadata": {},
   "outputs": [
    {
     "name": "stdout",
     "output_type": "stream",
     "text": [
      "PGEngine initialized\n",
      "PGVectorStore initialized with table: korean_grammer\n"
     ]
    },
    {
     "data": {
      "text/plain": [
       "<hybridsearch_bm25.AsyncPGVectorStoreBM25 at 0x74398c8d1fa0>"
      ]
     },
     "execution_count": 8,
     "metadata": {},
     "output_type": "execute_result"
    }
   ],
   "source": [
    "await test_pg_module.set_pgvector(\"korean_grammer\",metadata_columns=[],hybridsearch=False)"
   ]
  },
  {
   "cell_type": "code",
   "execution_count": 9,
   "id": "e8b7d623",
   "metadata": {},
   "outputs": [
    {
     "name": "stdout",
     "output_type": "stream",
     "text": [
      "HNSW index 'korean_grammer_hnsw_index' deleted successfully\n"
     ]
    }
   ],
   "source": [
    "await test_pg_module.adrop_hnsw_index(\"korean_grammer\")"
   ]
  },
  {
   "cell_type": "code",
   "execution_count": 10,
   "id": "110f28ad",
   "metadata": {},
   "outputs": [
    {
     "name": "stdout",
     "output_type": "stream",
     "text": [
      "HNSW index 'korean_grammer_hnsw_index' created successfully (vector_cosine_ops)\n"
     ]
    }
   ],
   "source": [
    "await test_pg_module.abuild_hnsw_index(\"korean_grammer\")"
   ]
  },
  {
   "cell_type": "code",
   "execution_count": 11,
   "id": "284f1d24",
   "metadata": {},
   "outputs": [
    {
     "name": "stdout",
     "output_type": "stream",
     "text": [
      "BM25 index 'bm25_idx_korean_grammer' deleted successfully\n"
     ]
    }
   ],
   "source": [
    "await test_pg_module.adrop_bm25_index(\"korean_grammer\")"
   ]
  },
  {
   "cell_type": "code",
   "execution_count": 12,
   "id": "c1df893e",
   "metadata": {},
   "outputs": [
    {
     "name": "stdout",
     "output_type": "stream",
     "text": [
      "BM25 index has been successfully created: bm25_idx_korean_grammer\n"
     ]
    },
    {
     "name": "stderr",
     "output_type": "stream",
     "text": [
      "2025-08-06 17:36:03.744 KST [12173] WARNING:  the `raw` tokenizer is deprecated\n",
      "2025-08-06 17:36:03.744 KST [12173] DETAIL:  the `raw` tokenizer is deprecated as it also lowercases and truncates the input and this is probably not what you want for you key_field\n",
      "2025-08-06 17:36:03.744 KST [12173] HINT:  use `keyword` instead\n"
     ]
    }
   ],
   "source": [
    "await test_pg_module.abuild_bm25_index(\"korean_grammer\")"
   ]
  },
  {
   "cell_type": "code",
   "execution_count": 17,
   "id": "aa6e5205",
   "metadata": {},
   "outputs": [
    {
     "name": "stdout",
     "output_type": "stream",
     "text": [
      "total number of docs: 145\n"
     ]
    },
    {
     "data": {
      "text/plain": [
       "145"
      ]
     },
     "execution_count": 17,
     "metadata": {},
     "output_type": "execute_result"
    }
   ],
   "source": [
    "await test_pg_module.acount_docs(schema=\"public\",table_name=\"korean_grammer\")"
   ]
  }
 ],
 "metadata": {
  "kernelspec": {
   "display_name": "malssami",
   "language": "python",
   "name": "python3"
  },
  "language_info": {
   "codemirror_mode": {
    "name": "ipython",
    "version": 3
   },
   "file_extension": ".py",
   "mimetype": "text/x-python",
   "name": "python",
   "nbconvert_exporter": "python",
   "pygments_lexer": "ipython3",
   "version": "3.12.4"
  }
 },
 "nbformat": 4,
 "nbformat_minor": 5
}
