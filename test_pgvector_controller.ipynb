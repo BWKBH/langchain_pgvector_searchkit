{
 "cells": [
  {
   "cell_type": "markdown",
   "id": "515f76f1",
   "metadata": {},
   "source": [
    "# How to use"
   ]
  },
  {
   "cell_type": "code",
   "execution_count": null,
   "id": "5c48433f",
   "metadata": {},
   "outputs": [],
   "source": [
    "import sys\n",
    "\n",
    "remove_path = ''\n",
    "\n",
    "# sys.path에서 해당 경로를 모두 제거\n",
    "sys.path = [p for p in sys.path if p != remove_path]\n",
    "\n",
    "# (그리고 src만 추가!)\n",
    "src_path = ''\n",
    "if src_path not in sys.path:\n",
    "    sys.path.append(src_path)"
   ]
  },
  {
   "cell_type": "code",
   "execution_count": 2,
   "id": "c2c3688f",
   "metadata": {},
   "outputs": [],
   "source": [
    "from langchain_pgvector_searchkit import PGVectorController"
   ]
  },
  {
   "cell_type": "code",
   "execution_count": 3,
   "id": "dff379bc",
   "metadata": {},
   "outputs": [
    {
     "name": "stderr",
     "output_type": "stream",
     "text": [
      "/home/kbh/Desktop/ssami/malssami/lib/python3.12/site-packages/tqdm/auto.py:21: TqdmWarning: IProgress not found. Please update jupyter and ipywidgets. See https://ipywidgets.readthedocs.io/en/stable/user_install.html\n",
      "  from .autonotebook import tqdm as notebook_tqdm\n"
     ]
    }
   ],
   "source": [
    "test_pg_module=PGVectorController()"
   ]
  },
  {
   "cell_type": "code",
   "execution_count": null,
   "id": "9983ec32",
   "metadata": {},
   "outputs": [
    {
     "data": {
      "text/plain": [
       "<langchain_pgvector_searchkit.service.pgvector_search_manager.PGVectorController at 0x7cd8381ac200>"
      ]
     },
     "execution_count": 4,
     "metadata": {},
     "output_type": "execute_result"
    }
   ],
   "source": [
    "test_pg_module.serve_postgres(postgresDB_path=\"\",data_directory=\"\", port=\"5434\", socket_directory = \"\")"
   ]
  },
  {
   "cell_type": "code",
   "execution_count": null,
   "id": "629a0120",
   "metadata": {},
   "outputs": [
    {
     "name": "stdout",
     "output_type": "stream",
     "text": [
      "PostgreSQL 16.9 (Ubuntu 16.9-0ubuntu0.24.04.1) on x86_64-pc-linux-gnu, compiled by gcc (Ubuntu 13.3.0-6ubuntu2~24.04) 13.3.0, 64-bit\n"
     ]
    },
    {
     "name": "stderr",
     "output_type": "stream",
     "text": [
      "2025-08-06 18:56:05.380 KST [28485] FATAL:  lock file \"postmaster.pid\" already exists\n",
      "2025-08-06 18:56:05.380 KST [28485] HINT:  Is another postmaster (PID 12165) running in data directory \"/home/kbh/Desktop/ssami/pgvector_db/malssami_pg_data\"?\n"
     ]
    },
    {
     "data": {
      "text/plain": [
       "<langchain_pgvector_searchkit.service.pgvector_search_manager.PGVectorController at 0x7cd8381ac200>"
      ]
     },
     "execution_count": 5,
     "metadata": {},
     "output_type": "execute_result"
    }
   ],
   "source": [
    "await test_pg_module.aconnect_to_postgres_sql_db(host = \"localhost\",\n",
    "                                                port = 5434,\n",
    "                                                user = \"\",\n",
    "                                                password = \"\",\n",
    "                                                dbname = \"postgres\",)"
   ]
  },
  {
   "cell_type": "code",
   "execution_count": null,
   "id": "830fa132",
   "metadata": {},
   "outputs": [
    {
     "name": "stdout",
     "output_type": "stream",
     "text": [
      "Trying to close PostgreSQL... PID: 12132\n",
      "\n",
      "▶ Active DB connections and transactions before shutdown:\n",
      "Current active connections/transactions status:\n",
      "PID:12140 USER:malssami_admin APP: IP:127.0.0.1 state:active xact_start:2025-08-06 08:35:10.334889+00:00\n",
      "  query:\n",
      "                SELECT pid, usename, application_name, client_addr, state, query, xact_start\n",
      "                FROM pg_stat_activity\n",
      "                WHERE datname = current_database()\n",
      "                ORDER BY state, xact_start NULLS LAST;\n",
      "            \n",
      "\n"
     ]
    },
    {
     "name": "stderr",
     "output_type": "stream",
     "text": [
      "2025-08-06 17:35:10.337 KST [12132] LOG:  received smart shutdown request\n"
     ]
    },
    {
     "name": "stdout",
     "output_type": "stream",
     "text": [
      "Server didn't close normally within timeout.\n",
      "Current active connections/transactions status:\n",
      "PID:12140 USER:malssami_admin APP: IP:127.0.0.1 state:active xact_start:2025-08-06 08:35:25.337742+00:00\n",
      "  query:\n",
      "                SELECT pid, usename, application_name, client_addr, state, query, xact_start\n",
      "                FROM pg_stat_activity\n",
      "                WHERE datname = current_database()\n",
      "                ORDER BY state, xact_start NULLS LAST;\n",
      "            \n",
      "\n",
      "Forcefully terminating all connections.\n",
      "All DB sessions have been successfully terminated.\n",
      "The server still did not close.\n",
      "PostgreSQL server killed.\n",
      "PostgreSQL server killed and zombie cleaned up.\n"
     ]
    },
    {
     "name": "stderr",
     "output_type": "stream",
     "text": [
      "2025-08-06 17:35:42.684 KST [12140] FATAL:  terminating connection due to unexpected postmaster exit\n"
     ]
    }
   ],
   "source": [
    "await test_pg_module.astop_postgres_server() # must clean up the server after use with all processes. jombie processes will be left if not stopped."
   ]
  },
  {
   "cell_type": "code",
   "execution_count": null,
   "id": "65df0673",
   "metadata": {},
   "outputs": [],
   "source": [
    "await test_pg_module.acreate_table(table_name=\"korean_grammar\",metadata_columns=[]) # create table with metadata columns, if you want to use filter, you must create metadata columns."
   ]
  },
  {
   "cell_type": "code",
   "execution_count": null,
   "id": "e8b7d623",
   "metadata": {},
   "outputs": [
    {
     "name": "stdout",
     "output_type": "stream",
     "text": [
      "HNSW index 'korean_grammer_hnsw_index' deleted successfully\n"
     ]
    }
   ],
   "source": [
    "await test_pg_module.adrop_hnsw_index(table_name=\"korean_grammar\")"
   ]
  },
  {
   "cell_type": "code",
   "execution_count": null,
   "id": "110f28ad",
   "metadata": {},
   "outputs": [
    {
     "name": "stdout",
     "output_type": "stream",
     "text": [
      "HNSW index 'korean_grammer_hnsw_index' created successfully (vector_cosine_ops)\n"
     ]
    }
   ],
   "source": [
    "await test_pg_module.acreate_hnsw_index(table_name=\"korean_grammar\")"
   ]
  },
  {
   "cell_type": "code",
   "execution_count": null,
   "id": "284f1d24",
   "metadata": {},
   "outputs": [
    {
     "name": "stdout",
     "output_type": "stream",
     "text": [
      "BM25 index 'bm25_idx_korean_grammer' deleted successfully\n"
     ]
    }
   ],
   "source": [
    "await test_pg_module.adrop_bm25_index(table_name=\"korean_grammar\")"
   ]
  },
  {
   "cell_type": "code",
   "execution_count": null,
   "id": "c1df893e",
   "metadata": {},
   "outputs": [
    {
     "name": "stdout",
     "output_type": "stream",
     "text": [
      "BM25 index has been successfully created: bm25_idx_korean_grammer\n"
     ]
    }
   ],
   "source": [
    "await test_pg_module.acreate_bm25_index(table_name=\"korean_grammar\")"
   ]
  },
  {
   "cell_type": "code",
   "execution_count": null,
   "id": "aa6e5205",
   "metadata": {},
   "outputs": [
    {
     "name": "stdout",
     "output_type": "stream",
     "text": [
      "total number of docs: 145\n"
     ]
    },
    {
     "data": {
      "text/plain": [
       "145"
      ]
     },
     "execution_count": 12,
     "metadata": {},
     "output_type": "execute_result"
    }
   ],
   "source": [
    "await test_pg_module.acount_docs(schema=\"public\",table_name=\"korean_grammar\")"
   ]
  },
  {
   "cell_type": "markdown",
   "id": "74379c7d",
   "metadata": {},
   "source": [
    "# Retrieve"
   ]
  },
  {
   "cell_type": "code",
   "execution_count": null,
   "id": "6f5a1bce",
   "metadata": {},
   "outputs": [
    {
     "name": "stdout",
     "output_type": "stream",
     "text": [
      "PGEngine initialized\n",
      "PGVectorStore initialized with table: korean_grammer\n"
     ]
    }
   ],
   "source": [
    "test_pg_module_sim=await test_pg_module.aset_pgvector(table_name=\"korean_grammar\",metadata_columns=[],hybridsearch=False)"
   ]
  },
  {
   "cell_type": "code",
   "execution_count": null,
   "id": "7bbd945a",
   "metadata": {},
   "outputs": [
    {
     "name": "stdout",
     "output_type": "stream",
     "text": [
      "PostgreSQL 16.9 (Ubuntu 16.9-0ubuntu0.24.04.1) on x86_64-pc-linux-gnu, compiled by gcc (Ubuntu 13.3.0-6ubuntu2~24.04) 13.3.0, 64-bit\n",
      "PGEngine initialized\n",
      "PGVectorStore initialized with table: korean_grammer\n"
     ]
    }
   ],
   "source": [
    "test_pg_module_hybrid=PGVectorController()\n",
    "await test_pg_module_hybrid.aconnect_to_postgres_sql_db(host = \"localhost\",\n",
    "                                                port = 5434\n",
    "                                                ,user = \"\",\n",
    "                                                password = \"\",\n",
    "                                                dbname = \"postgres\")\n",
    "test_pg_module_hybrid=await test_pg_module_hybrid.aset_pgvector(table_name=\"korean_grammar\",metadata_columns=[],hybridsearch=True)"
   ]
  },
  {
   "cell_type": "code",
   "execution_count": 34,
   "id": "b53886b0",
   "metadata": {},
   "outputs": [
    {
     "data": {
      "text/plain": [
       "[Document(id='03430568-5648-4c32-8ddb-393e2c5d1730', metadata={}, page_content='<한글 맞춤법, 표준어 규정 - 표준어 사정 원칙 제20항> \\n사어(死語)가 되어 쓰이지 않게 된 단어는 고어로 처리하고, 현재 널리 사용되는 단어를 \\n표준어로 삼는다.(ㄱ을 표준어로 삼고, ㄴ을 버림.) \\n- ㄱ: 난봉, 낭떠러지, 설거지-하다, 애달프다, 오동-나무, 자두 \\n- ㄴ: 봉, 낭, 설겆다, 애닯다, 머귀-나무, 오얏'),\n",
       " Document(id='190b6505-295e-4d54-beab-3f85e9890ebc', metadata={}, page_content='<한글 맞춤법, 표준어 규정 - 표준어 사정 원칙 제7항> \\n수컷을 이르는 접두사는 ’수-’로 통일한다.(ㄱ을 표준어로 삼고, ㄴ을 버림.) \\n- ㄱ: 수-꿩, 수-나사, 수-놈, 수-사돈, 수-소, 수-은행나무 \\n- ㄴ: 수-퀑/숫-꿩, 숫-나사, 숫-놈, 숫-사돈, 숫-소, 숫-은행나무 \\n다만 1. 다음 단어에서는 접두사 다음에서 나는 거센소리를 인정한다. 접두사 ’암-’이 결\\n합되는 경우에도 이에 준한다.(ㄱ을 표준어로 삼고, ㄴ을 버림.) \\n- ㄱ: 수-캉아지, 수-캐, 수-컷, 수-키와, 수-탉, 수-탕나귀, 수-톨쩌귀, 수-퇘지, 수-평아리 \\n- ㄴ: 숫-강아지, 숫-개, 숫-것, 숫-기와, 숫-닭, 숫-당나귀, 숫-돌쩌귀, 숫-돼지, 숫-병아리 \\n다만 2. 다음 단어의 접두사는 ’숫-’으로 한다.(ㄱ을 표준어로 삼고, ㄴ을 버림.) \\n- ㄱ: 숫-양, 숫-염소, 숫-쥐 \\n- ㄴ: 수-양, 수-염소, 수-쥐'),\n",
       " Document(id='d1121a88-026a-41d0-9ef2-7d35e3550c54', metadata={}, page_content='<한글 맞춤법, 표준어 규정 - 표준어 사정 원칙 제25항> \\n의미가 똑같은 형태가 몇 가지 있을 경우, 그중 어느 하나가 압도적으로 널리 쓰이면, 그 \\n단어만을 표준어로 삼는다.표준어:\\n- 안-걸이\\n- 안다미-씌우 다\\n- 안쓰럽다\\n- 안절부절-못하다\\n- 앉은뱅이-저울\\n- 알-사탕\\n- 암-내\\n- 앞-지르다\\n- 애-벌레\\n- 얕은- 꾀\\n\\n비표준어:\\n- 영판\\n- 안-낚시\\n- 안 다미-시키다\\n- 안-슬프다\\n- 안절부절-하다\\n- 앉은-저울\\n- 구슬-사탕\\n- 곁땀-내\\n- 따라-먹다\\n- 어린- 벌레'),\n",
       " Document(id='cc28c171-e5ab-4a70-bba1-6cfb0705aa45', metadata={}, page_content='<한글 맞춤법, 표준어 규정 - 한글 맞춤법 제57항>\\n다음 말들은 각각 구별하여 적는다.\\n\\n- 있다가: 돈은 있다가도 없다. \\n- 저리다: 다친 다리가 저린다. \\n- 절이다: 김장 배추를 절인다. \\n- 조리다: 생선을 조린다. 통조림, 병조림. \\n- 졸이다: 마음을 졸인다. \\n- 주리다: 여러 날을 주렸다. \\n- 줄이다: 비용을 줄인다. \\n- 하노라고: 하노라고 한 것이 이 모양이다. \\n- 하느라고: 공부하느라고 밤을 새웠다. \\n- -느니보다(어미): 나를 찾아오느니보다 집에 있거라. \\n- -는 이보다(의존 명사): 오는 이가 가는 이보다 많다. \\n- -(으)리만큼(어미): 나를 미워하리만큼 그에게 잘못한 일이 없다. \\n- -(으)ㄹ 이만큼(의존 명사): 찬성할 이도 반대할 이만큼이나 많을 것이다. \\n- -(으)러(목적): 공부하러 간다. \\n- -(으)려(의도): 서울 가려 한다. \\n- (으)로서(자격): 사람으로서 그럴 수는 없다. \\n- (으)로써(수단): 닭으로써 꿩을 대신했다. \\n- -(으)므로(어미): 그가 나를 믿으므로 나도 그를 믿는다. \\n- (-ㅁ, -음)으로(써)(조사): 그는 믿음으로(써) 산 보람을 느꼈다.'),\n",
       " Document(id='73e03c88-c5f6-4c88-81e1-ff2a2ee42c17', metadata={}, page_content='<한글 맞춤법, 표준어 규정 - 표준어 사정 원칙 제25항> \\n의미가 똑같은 형태가 몇 가지 있을 경우, 그중 어느 하나가 압도적으로 널리 쓰이면, 그 \\n단어만을 표준어로 삼는다.표준어:\\n- 까치-발\\n- 꼬창-모\\n- 나룻-배\\n- 납-도리\\n- 농-지거리\\n- 다사-스럽다\\n- 다오\\n- 담배-꽁초\\n- 담배-설대\\n- 대장-일\\n\\n비표준어:\\n- 까치-다리\\n- 말뚝-모\\n- 나루\\n- 민-도리\\n- 기롱-지거리\\n- 다사-하다\\n- 다 구\\n- 담배-꼬투리/담배-꽁치/담배-꽁추\\n- 대-설대\\n- 성냥-일')]"
      ]
     },
     "execution_count": 34,
     "metadata": {},
     "output_type": "execute_result"
    }
   ],
   "source": [
    "await test_pg_module_sim.asimilarity_search(\"나는 나비\", k=5)"
   ]
  },
  {
   "cell_type": "code",
   "execution_count": null,
   "id": "0ff6ddae",
   "metadata": {},
   "outputs": [],
   "source": [
    "test_pg_module_hybrid.hybrid_search_config.fusion_function_parameters['primary_weight']=0.4\n",
    "test_pg_module_hybrid.hybrid_search_config.fusion_function_parameters['secondary_weight']=0.6\n",
    "test_pg_module_hybrid.hybrid_search_config.fusion_function_parameters['primary_rrf_k']=60\n",
    "test_pg_module_hybrid.hybrid_search_config.fusion_function_parameters['secondary_rrf_k']=60\n",
    "hybrid_retriever_korean_grammer = test_pg_module_hybrid.as_retriever()"
   ]
  },
  {
   "cell_type": "code",
   "execution_count": 33,
   "id": "78c3dfab",
   "metadata": {},
   "outputs": [
    {
     "data": {
      "text/plain": [
       "[Document(id='af410c68-656f-4894-9303-36cbda770ea0', metadata={}, page_content='<한글 맞춤법, 표준어 규정 - 한글 맞춤법 제5항> \\n한 단어 안에서 뚜렷한 까닭 없이 나는 된소리는 다음 음절의 첫소리를 된소리로 적는\\n다. \\n1. 두 모음 사이에서 나는 된소리 \\n- 소쩍새, 어깨, 오빠, 으뜸, 아끼다, 기쁘다, 깨끗하다, 어떠하다, 해쓱하다, 가끔, 거꾸로, \\n부썩, 어찌, 이따금 \\n2. ’ㄴ, ㄹ, ㅁ, ㅇ’ 받침 뒤에서 나는 된소리 \\n- 산뜻하다, 잔뜩, 살짝, 훨씬, 담뿍, 움찔, 몽땅, 엉뚱하다 \\n다만, ’ㄱ, ㅂ’ 받침 뒤에서 나는 된소리는, 같은 음절이나 비슷한 음절이 겹쳐 나는 경우\\n가 아니면 된소리로 적지 아니한다. \\n- 국수, 깍두기, 딱지, 색시, 싹둑(~싹둑), 법석, 갑자기, 몹시'),\n",
       " Document(id='47e97e5d-1a37-4779-bcfa-6bb0006f7d35', metadata={}, page_content='<한글 맞춤법, 표준어 규정 - 한글 맞춤법 제51항> \\n부사의 끝음절이 분명히 ’이’로만 나는 것은 ’-이’로 적고, ’히’로만 나거나 ’이’나 ’히’로 나\\n는 것은 ’-히’로 적는다. \\n1. ’이’로만 나는 것 \\n- 가붓이, 깨끗이, 나붓이, 느긋이, 둥긋이, 따뜻이, 반듯이, 버젓이, 산뜻이, 의젓이, 가까\\n이, 고이, 날카로이, 대수로이, 번거로이, 많이, 적이, 헛되이, 겹겹이, 번번이, 일일이, 집집\\n이, 틈틈이 \\n2. ’히’로만 나는 것 \\n- 극히, 급히, 딱히, 속히, 작히, 족히, 특히, 엄격히, 정확히 \\n3. ’이, 히’로 나는 것  \\n- 솔직히, 가만히, 간편히, 나른히, 무단히, 각별히, 소홀히, 쓸쓸히, 정결히, 과감히, 꼼꼼\\n히, 심히, 열심히, 급급히, 답답히, 섭섭히, 공평히, 능히, 당당히, 분명히, 상당히, 조용히, \\n간소히, 고요히, 도저히'),\n",
       " Document(id='11d5f364-4fec-4283-9bf3-2d37973894d6', metadata={}, page_content='<한글 맞춤법, 표준어 규정 - 한글 맞춤법 제52항> \\n한자어에서 본음으로도 나고 속음으로도 나는 것은 각각 그 소리에 따라 적는다. \\n- 본음으로 나는 것: 승낙(承諾), 만난(萬難), 안녕(安寧), 분노(忿怒), 토론(討論), 오륙십(五\\n六十), 목재(木材), 십일(十日), 팔일(八日) \\n- 속음으로 나는 것: 수락(受諾), 쾌락(快諾), 허락(許諾), 곤란(困難), 논란(論難), 의령(宜\\n寧), 회령(會寧), 대로(大怒), 희로애락(喜怒哀樂), 의논(議論), 오뉴월, 유월(六月), 모과(木\\n瓜), 시방정토(十方淨土), 시왕(十王), 시월(十月), 초파일(初八日)'),\n",
       " Document(id='585e016e-24d9-4fe9-a5bf-3b498116398f', metadata={}, page_content='<문장 부호 - 문장 부호 큰따옴표 규정> \\n(1) 글 가운데에서 직접 대화를 표시할 때 쓴다. \\n- \"\"어머니, 제가 가겠어요.\"\" \\n  \"\"아니다. 내가 다녀오마.\"\" \\n \\n(2) 말이나 글을 직접 인용할 때 쓴다. \\n- 나는 \"\"어, 광훈이 아니냐?\"\" 하는 소리에 깜짝 놀랐다. \\n- 밤하늘에 반짝이는 별들을 보면서 \"\"나는 아무 걱정도 없이 가을 속의 별들을 다 헬 \\n듯합니다.\"\"라는 시구를 떠올렸다. \\n- 편지의 끝머리에는 이렇게 적혀 있었다. \\n   \"\"할머니, 편지에 사진을 동봉했다고 하셨지만 봉투 안에는 아무것도 없었어요.\"\" \\n \\n문장 안에서 책의 제목이나 신문 이름 등을 나타낼 때에도 큰따옴표를 쓸 수 있다. \\n \\n￭ 큰따옴표의 띄어쓰기: 여는 큰따옴표는 뒷말에 붙여 쓰고, 닫는 큰따옴표는 앞말에 붙\\n여 쓴다.'),\n",
       " Document(id='3e8789e0-8f51-438c-a99d-33d328364c66', metadata={}, page_content='<한글 맞춤법, 표준어 규정 - 한글 맞춤법 제7항> \\n’ㄷ’ 소리로 나는 받침 중에서 ’ㄷ’으로 적을 근거가 없는 것은 ’ㅅ’으로 적는다. \\n- 덧저고리, 돗자리, 엇셈, 웃어른, 핫옷, 무릇, 사뭇, 얼핏, 자칫하면, 뭇[衆], 옛, 첫, 헛')]"
      ]
     },
     "execution_count": 33,
     "metadata": {},
     "output_type": "execute_result"
    }
   ],
   "source": [
    "await hybrid_retriever_korean_grammer.ainvoke(\"나는 나비\", k=5)"
   ]
  },
  {
   "cell_type": "code",
   "execution_count": null,
   "id": "76cedc5e",
   "metadata": {},
   "outputs": [],
   "source": []
  }
 ],
 "metadata": {
  "kernelspec": {
   "display_name": "malssami",
   "language": "python",
   "name": "python3"
  },
  "language_info": {
   "codemirror_mode": {
    "name": "ipython",
    "version": 3
   },
   "file_extension": ".py",
   "mimetype": "text/x-python",
   "name": "python",
   "nbconvert_exporter": "python",
   "pygments_lexer": "ipython3",
   "version": "3.12.4"
  }
 },
 "nbformat": 4,
 "nbformat_minor": 5
}
