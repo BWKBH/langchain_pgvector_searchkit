{
 "cells": [
  {
   "cell_type": "markdown",
   "id": "515f76f1",
   "metadata": {},
   "source": [
    "# How to use"
   ]
  },
  {
   "cell_type": "code",
   "execution_count": 2,
   "id": "c2c3688f",
   "metadata": {},
   "outputs": [],
   "source": [
    "from langchain_pgvector_searchkit import PGVectorController"
   ]
  },
  {
   "cell_type": "code",
   "execution_count": 3,
   "id": "dff379bc",
   "metadata": {},
   "outputs": [
    {
     "name": "stderr",
     "output_type": "stream",
     "text": [
      "/home/kbh/Desktop/ssami/malssami/lib/python3.12/site-packages/tqdm/auto.py:21: TqdmWarning: IProgress not found. Please update jupyter and ipywidgets. See https://ipywidgets.readthedocs.io/en/stable/user_install.html\n",
      "  from .autonotebook import tqdm as notebook_tqdm\n"
     ]
    }
   ],
   "source": [
    "test_pg_module=PGVectorController()"
   ]
  },
  {
   "cell_type": "code",
   "execution_count": null,
   "id": "9983ec32",
   "metadata": {},
   "outputs": [
    {
     "data": {
      "text/plain": [
       "<langchain_pgvector_searchkit.service.pgvector_search_manager.PGVectorController at 0x703ad0d31640>"
      ]
     },
     "execution_count": 4,
     "metadata": {},
     "output_type": "execute_result"
    },
    {
     "name": "stderr",
     "output_type": "stream",
     "text": [
      "2025-08-06 18:14:50.798 KST [23417] FATAL:  lock file \"postmaster.pid\" already exists\n",
      "2025-08-06 18:14:50.798 KST [23417] HINT:  Is another postmaster (PID 12165) running in data directory \"/home/kbh/Desktop/ssami/pgvector_db/malssami_pg_data\"?\n"
     ]
    }
   ],
   "source": [
    "test_pg_module.serve_postgres(postgresDB_path=\"\",data_directory=\"\", port=\"\", socket_directory = \"\")"
   ]
  },
  {
   "cell_type": "code",
   "execution_count": null,
   "id": "629a0120",
   "metadata": {},
   "outputs": [
    {
     "name": "stdout",
     "output_type": "stream",
     "text": [
      "PostgreSQL 16.9 (Ubuntu 16.9-0ubuntu0.24.04.1) on x86_64-pc-linux-gnu, compiled by gcc (Ubuntu 13.3.0-6ubuntu2~24.04) 13.3.0, 64-bit\n"
     ]
    },
    {
     "data": {
      "text/plain": [
       "<langchain_pgvector_searchkit.service.pgvector_search_manager.PGVectorController at 0x703ad0d31640>"
      ]
     },
     "execution_count": 5,
     "metadata": {},
     "output_type": "execute_result"
    }
   ],
   "source": [
    "await test_pg_module.aconnect_to_postgres_sql_db(host = \"localhost\",\n",
    "                                                port = 5434,\n",
    "                                                user = \"\",\n",
    "                                                password = \"\",\n",
    "                                                dbname = \"postgres\",)"
   ]
  },
  {
   "cell_type": "code",
   "execution_count": 5,
   "id": "830fa132",
   "metadata": {},
   "outputs": [
    {
     "name": "stdout",
     "output_type": "stream",
     "text": [
      "Trying to close PostgreSQL... PID: 12132\n",
      "\n",
      "▶ Active DB connections and transactions before shutdown:\n",
      "Current active connections/transactions status:\n",
      "PID:12140 USER:malssami_admin APP: IP:127.0.0.1 state:active xact_start:2025-08-06 08:35:10.334889+00:00\n",
      "  query:\n",
      "                SELECT pid, usename, application_name, client_addr, state, query, xact_start\n",
      "                FROM pg_stat_activity\n",
      "                WHERE datname = current_database()\n",
      "                ORDER BY state, xact_start NULLS LAST;\n",
      "            \n",
      "\n"
     ]
    },
    {
     "name": "stderr",
     "output_type": "stream",
     "text": [
      "2025-08-06 17:35:10.337 KST [12132] LOG:  received smart shutdown request\n"
     ]
    },
    {
     "name": "stdout",
     "output_type": "stream",
     "text": [
      "Server didn't close normally within timeout.\n",
      "Current active connections/transactions status:\n",
      "PID:12140 USER:malssami_admin APP: IP:127.0.0.1 state:active xact_start:2025-08-06 08:35:25.337742+00:00\n",
      "  query:\n",
      "                SELECT pid, usename, application_name, client_addr, state, query, xact_start\n",
      "                FROM pg_stat_activity\n",
      "                WHERE datname = current_database()\n",
      "                ORDER BY state, xact_start NULLS LAST;\n",
      "            \n",
      "\n",
      "Forcefully terminating all connections.\n",
      "All DB sessions have been successfully terminated.\n",
      "The server still did not close.\n",
      "PostgreSQL server killed.\n",
      "PostgreSQL server killed and zombie cleaned up.\n"
     ]
    },
    {
     "name": "stderr",
     "output_type": "stream",
     "text": [
      "2025-08-06 17:35:42.684 KST [12140] FATAL:  terminating connection due to unexpected postmaster exit\n"
     ]
    }
   ],
   "source": [
    "await test_pg_module.astop_postgres_server()"
   ]
  },
  {
   "cell_type": "code",
   "execution_count": 6,
   "id": "40b6ade1",
   "metadata": {},
   "outputs": [
    {
     "name": "stdout",
     "output_type": "stream",
     "text": [
      "PGEngine initialized\n",
      "PGVectorStore initialized with table: korean_grammer\n"
     ]
    },
    {
     "data": {
      "text/plain": [
       "<langchain_pgvector_searchkit.db.hybridsearch_bm25.AsyncPGVectorStoreBM25 at 0x703b0d56ade0>"
      ]
     },
     "execution_count": 6,
     "metadata": {},
     "output_type": "execute_result"
    }
   ],
   "source": [
    "await test_pg_module.aset_pgvector(\"korean_grammer\",metadata_columns=[],hybridsearch=False)"
   ]
  },
  {
   "cell_type": "code",
   "execution_count": 7,
   "id": "e8b7d623",
   "metadata": {},
   "outputs": [
    {
     "name": "stdout",
     "output_type": "stream",
     "text": [
      "HNSW index 'korean_grammer_hnsw_index' deleted successfully\n"
     ]
    }
   ],
   "source": [
    "await test_pg_module.adrop_hnsw_index(\"korean_grammer\")"
   ]
  },
  {
   "cell_type": "code",
   "execution_count": 9,
   "id": "110f28ad",
   "metadata": {},
   "outputs": [
    {
     "name": "stdout",
     "output_type": "stream",
     "text": [
      "HNSW index 'korean_grammer_hnsw_index' created successfully (vector_cosine_ops)\n"
     ]
    }
   ],
   "source": [
    "await test_pg_module.acreate_hnsw_index(\"korean_grammer\")"
   ]
  },
  {
   "cell_type": "code",
   "execution_count": 10,
   "id": "284f1d24",
   "metadata": {},
   "outputs": [
    {
     "name": "stdout",
     "output_type": "stream",
     "text": [
      "BM25 index 'bm25_idx_korean_grammer' deleted successfully\n"
     ]
    }
   ],
   "source": [
    "await test_pg_module.adrop_bm25_index(\"korean_grammer\")"
   ]
  },
  {
   "cell_type": "code",
   "execution_count": 11,
   "id": "c1df893e",
   "metadata": {},
   "outputs": [
    {
     "name": "stdout",
     "output_type": "stream",
     "text": [
      "BM25 index has been successfully created: bm25_idx_korean_grammer\n"
     ]
    }
   ],
   "source": [
    "await test_pg_module.acreate_bm25_index(\"korean_grammer\")"
   ]
  },
  {
   "cell_type": "code",
   "execution_count": 12,
   "id": "aa6e5205",
   "metadata": {},
   "outputs": [
    {
     "name": "stdout",
     "output_type": "stream",
     "text": [
      "total number of docs: 145\n"
     ]
    },
    {
     "data": {
      "text/plain": [
       "145"
      ]
     },
     "execution_count": 12,
     "metadata": {},
     "output_type": "execute_result"
    }
   ],
   "source": [
    "await test_pg_module.acount_docs(schema=\"public\",table_name=\"korean_grammer\")"
   ]
  },
  {
   "cell_type": "markdown",
   "id": "74379c7d",
   "metadata": {},
   "source": [
    "# Retrieve"
   ]
  },
  {
   "cell_type": "code",
   "execution_count": 13,
   "id": "b53886b0",
   "metadata": {},
   "outputs": [
    {
     "data": {
      "text/plain": [
       "[Document(id='34407998-9138-419f-ba1d-ab4b7744701b', metadata={}, page_content='<띄어쓰기 - 한글 맞춤법 제2항> \\n문장의 각 단어는 띄어 씀을 원칙으로 한다.'),\n",
       " Document(id='f6a486c2-14a2-47db-92e6-28a4e15cf2eb', metadata={}, page_content='<한글 맞춤법, 표준어 규정 - 한글 맞춤법 제33항> \\n체언과 조사가 어울려 줄어지는 경우에는 준 대로 적는다. \\n- 본말: 그것은, 그것이, 그것으로, 나는, 나를, 너는, 너를, 무엇을, 무엇이 \\n- 준말: 그건, 그게, 그걸로, 난, 날, 넌, 널, 뭣을/무얼/뭘, 뭣이/무에'),\n",
       " Document(id='57b70358-474f-40a3-b986-5b243e436daa', metadata={}, page_content='<띄어쓰기 - 한글 맞춤법 제49항> \\n성명 이외의 고유 명사는 단어별로 띄어 씀을 원칙으로 하되, 단위별로 띄어 쓸 수 있\\n다.(ㄱ을 원칙으로 하고, ㄴ을 허용함.) \\n- ㄱ: 대한 중학교, 한국 대학교 사범 대학 \\n- ㄴ: 대한중학교, 한국대학교 사범대학'),\n",
       " Document(id='73e03c88-c5f6-4c88-81e1-ff2a2ee42c17', metadata={}, page_content='<한글 맞춤법, 표준어 규정 - 표준어 사정 원칙 제25항> \\n의미가 똑같은 형태가 몇 가지 있을 경우, 그중 어느 하나가 압도적으로 널리 쓰이면, 그 \\n단어만을 표준어로 삼는다.표준어:\\n- 까치-발\\n- 꼬창-모\\n- 나룻-배\\n- 납-도리\\n- 농-지거리\\n- 다사-스럽다\\n- 다오\\n- 담배-꽁초\\n- 담배-설대\\n- 대장-일\\n\\n비표준어:\\n- 까치-다리\\n- 말뚝-모\\n- 나루\\n- 민-도리\\n- 기롱-지거리\\n- 다사-하다\\n- 다 구\\n- 담배-꼬투리/담배-꽁치/담배-꽁추\\n- 대-설대\\n- 성냥-일'),\n",
       " Document(id='ce224953-451b-4c10-ad1e-2c40c83cfcfc', metadata={}, page_content='<띄어쓰기 - 한글 맞춤법 제45항> \\n두 말을 이어 주거나 열거할 적에 쓰이는 다음의 말들은 띄어 쓴다. \\n- 국장 겸 과장 / 열 내지 스물 / 청군 대 백군 / 책상, 걸상 등이 있다 / 이사장 및 이\\n사들 / 사과, 배, 귤 등등 / 사과, 배 등속 / 부산, 광주 등지')]"
      ]
     },
     "execution_count": 13,
     "metadata": {},
     "output_type": "execute_result"
    }
   ],
   "source": [
    "await test_pg_module.vector_store.asimilarity_search(\"한국어 문법\", k=5)"
   ]
  },
  {
   "cell_type": "code",
   "execution_count": 23,
   "id": "dfeefccc",
   "metadata": {},
   "outputs": [
    {
     "name": "stdout",
     "output_type": "stream",
     "text": [
      "PGEngine initialized\n",
      "PGVectorStore initialized with table: korean_grammer\n"
     ]
    }
   ],
   "source": [
    "test_pg_module_hybrid=await test_pg_module.aset_pgvector(\"korean_grammer\",metadata_columns=[],hybridsearch=True) # with hybrid search bm25 index"
   ]
  },
  {
   "cell_type": "code",
   "execution_count": 24,
   "id": "0ff6ddae",
   "metadata": {},
   "outputs": [],
   "source": [
    "test_pg_module_hybrid.hybrid_search_config.fusion_function_parameters['primary_weight']=0.1\n",
    "test_pg_module_hybrid.hybrid_search_config.fusion_function_parameters['secondary_weight']=0.9\n",
    "test_pg_module_hybrid.hybrid_search_config.fusion_function_parameters['primary_rrf_k']=60\n",
    "test_pg_module_hybrid.hybrid_search_config.fusion_function_parameters['secondary_rrf_k']=40\n",
    "hybrid_retriever_korean_grammer = test_pg_module_hybrid.as_retriever()"
   ]
  },
  {
   "cell_type": "code",
   "execution_count": 25,
   "id": "78c3dfab",
   "metadata": {},
   "outputs": [
    {
     "data": {
      "text/plain": [
       "[Document(id='34407998-9138-419f-ba1d-ab4b7744701b', metadata={}, page_content='<띄어쓰기 - 한글 맞춤법 제2항> \\n문장의 각 단어는 띄어 씀을 원칙으로 한다.'),\n",
       " Document(id='f6a486c2-14a2-47db-92e6-28a4e15cf2eb', metadata={}, page_content='<한글 맞춤법, 표준어 규정 - 한글 맞춤법 제33항> \\n체언과 조사가 어울려 줄어지는 경우에는 준 대로 적는다. \\n- 본말: 그것은, 그것이, 그것으로, 나는, 나를, 너는, 너를, 무엇을, 무엇이 \\n- 준말: 그건, 그게, 그걸로, 난, 날, 넌, 널, 뭣을/무얼/뭘, 뭣이/무에'),\n",
       " Document(id='57b70358-474f-40a3-b986-5b243e436daa', metadata={}, page_content='<띄어쓰기 - 한글 맞춤법 제49항> \\n성명 이외의 고유 명사는 단어별로 띄어 씀을 원칙으로 하되, 단위별로 띄어 쓸 수 있\\n다.(ㄱ을 원칙으로 하고, ㄴ을 허용함.) \\n- ㄱ: 대한 중학교, 한국 대학교 사범 대학 \\n- ㄴ: 대한중학교, 한국대학교 사범대학'),\n",
       " Document(id='73e03c88-c5f6-4c88-81e1-ff2a2ee42c17', metadata={}, page_content='<한글 맞춤법, 표준어 규정 - 표준어 사정 원칙 제25항> \\n의미가 똑같은 형태가 몇 가지 있을 경우, 그중 어느 하나가 압도적으로 널리 쓰이면, 그 \\n단어만을 표준어로 삼는다.표준어:\\n- 까치-발\\n- 꼬창-모\\n- 나룻-배\\n- 납-도리\\n- 농-지거리\\n- 다사-스럽다\\n- 다오\\n- 담배-꽁초\\n- 담배-설대\\n- 대장-일\\n\\n비표준어:\\n- 까치-다리\\n- 말뚝-모\\n- 나루\\n- 민-도리\\n- 기롱-지거리\\n- 다사-하다\\n- 다 구\\n- 담배-꼬투리/담배-꽁치/담배-꽁추\\n- 대-설대\\n- 성냥-일'),\n",
       " Document(id='ce224953-451b-4c10-ad1e-2c40c83cfcfc', metadata={}, page_content='<띄어쓰기 - 한글 맞춤법 제45항> \\n두 말을 이어 주거나 열거할 적에 쓰이는 다음의 말들은 띄어 쓴다. \\n- 국장 겸 과장 / 열 내지 스물 / 청군 대 백군 / 책상, 걸상 등이 있다 / 이사장 및 이\\n사들 / 사과, 배, 귤 등등 / 사과, 배 등속 / 부산, 광주 등지')]"
      ]
     },
     "execution_count": 25,
     "metadata": {},
     "output_type": "execute_result"
    }
   ],
   "source": [
    "await hybrid_retriever_korean_grammer.ainvoke(\"한국어 문법\", k=5)"
   ]
  }
 ],
 "metadata": {
  "kernelspec": {
   "display_name": "malssami",
   "language": "python",
   "name": "python3"
  },
  "language_info": {
   "codemirror_mode": {
    "name": "ipython",
    "version": 3
   },
   "file_extension": ".py",
   "mimetype": "text/x-python",
   "name": "python",
   "nbconvert_exporter": "python",
   "pygments_lexer": "ipython3",
   "version": "3.12.4"
  }
 },
 "nbformat": 4,
 "nbformat_minor": 5
}
